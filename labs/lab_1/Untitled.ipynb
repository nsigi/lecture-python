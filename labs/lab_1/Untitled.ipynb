{
 "cells": [
  {
   "cell_type": "code",
   "execution_count": null,
   "id": "6518f82c",
   "metadata": {},
   "outputs": [],
   "source": [
    "n = int(input(\"Введите левую границу: \"))\n",
    "k = int(input(\"Введите правую границу: \"))\n",
    "if n:\n",
    "    pr = int(((((1 + 5 ** 0.5) / 2) ** (n - 1)) - (((1 - 5 ** 0.5) / 2) ** (n - 1))) / 5 ** 0.5) #предыдщий первому элемент \n",
    "else:\n",
    "    pr = 1 #если левая граница - 0\n",
    "num = int(((((1 + 5 ** 0.5) / 2) ** n) - (((1 - 5 ** 0.5) / 2) ** n)) / 5 ** 0.5) #первый элемент из диапозона\n",
    "for i in range(n, k + 1):\n",
    "    print(\"Индекс:\", i, \" Значение:\", num) #вывод элементов\n",
    "    pr, num = num, pr #в переменную pr сохраняем значение текущего элемента последовательности\n",
    "    num += pr #находим следующее число из последовательности\n",
    "#P.S. в пункте 1 сделал вывод, для наглядности генирируемой последовательности"
   ]
  },
  {
   "cell_type": "code",
   "execution_count": null,
   "id": "c7e3384a",
   "metadata": {},
   "outputs": [],
   "source": [
    "n = int(input(\"Введите левую границу: \"))\n",
    "k = int(input(\"Введите правую границу: \"))\n",
    "if n:\n",
    "    pr = int(((((1 + 5 ** 0.5) / 2) ** (n - 1)) - (((1 - 5 ** 0.5) / 2) ** (n - 1))) / 5 ** 0.5)\n",
    "else:\n",
    "    pr = 1\n",
    "num = int(((((1 + 5 ** 0.5) / 2) ** n) - (((1 - 5 ** 0.5) / 2) ** n)) / 5 ** 0.5)\n",
    "for i in range(n, k + 1): \n",
    "    if not num % 2: #проверка на четность\n",
    "        nNum = -i ** 2\n",
    "    else:\n",
    "        nNum = num\n",
    "    print(nNum)\n",
    "    pr, num = num, pr \n",
    "    num += pr"
   ]
  },
  {
   "cell_type": "code",
   "execution_count": null,
   "id": "7f6bdc13",
   "metadata": {},
   "outputs": [],
   "source": [
    "n = int(input(\"Введите левую границу: \"))\n",
    "k = int(input(\"Введите правую границу: \"))\n",
    "if n:\n",
    "    pr = int(((((1 + 5 ** 0.5) / 2) ** (n - 1)) - (((1 - 5 ** 0.5) / 2) ** (n - 1))) / 5 ** 0.5)\n",
    "else:\n",
    "    pr = 1\n",
    "num = int(((((1 + 5 ** 0.5) / 2) ** n) - (((1 - 5 ** 0.5) / 2) ** n)) / 5 ** 0.5)\n",
    "#инициализация переменных\n",
    "Sum = 0 #сумма\n",
    "Max = Min = num #максимальный и минимальный элементы соответственно\n",
    "maxIn = minIn = n #индексы максимального и минимального элементов соответственно\n",
    "for i in range(n, k + 1): \n",
    "    if not num % 2:\n",
    "        nNum = -i ** 2\n",
    "    else:\n",
    "        nNum = num\n",
    "    print(nNum)\n",
    "    Sum += nNum #считаем сумму\n",
    "    #ищем максимум или минимум\n",
    "    if Max < nNum:\n",
    "        Max = nNum\n",
    "        maxIn = i\n",
    "    elif Min > nNum:\n",
    "        Min = nNum\n",
    "        minIn = i\n",
    "    pr, num = num, pr   \n",
    "    num += pr\n",
    "#вывод\n",
    "print(\"Сумма: \", Sum)\n",
    "print(\"Индекс:\", minIn, \" Минимальный элемент:\", Min)\n",
    "print(\"Индекс:\", maxIn, \" Максимальный элемент:\", Max)"
   ]
  },
  {
   "cell_type": "code",
   "execution_count": null,
   "id": "c62f4cbc",
   "metadata": {},
   "outputs": [],
   "source": [
    "n = int(input(\"Введите левую границу: \"))\n",
    "k = int(input(\"Введите правую границу: \"))\n",
    "if n:\n",
    "    pr = int(((((1 + 5 ** 0.5) / 2) ** (n - 1)) - (((1 - 5 ** 0.5) / 2) ** (n - 1))) / 5 ** 0.5)\n",
    "else:\n",
    "    pr = 1\n",
    "num = int(((((1 + 5 ** 0.5) / 2) ** n) - (((1 - 5 ** 0.5) / 2) ** n)) / 5 ** 0.5)\n",
    "for i in range(n, k + 1): \n",
    "    if not num % 2:\n",
    "        nNum = -i ** 2\n",
    "    else:\n",
    "        nNum = num\n",
    "    chNum = nNum #переменная для проверки суммы цифр\n",
    "    Sum = 0      #сумма цифр элемента\n",
    "    while chNum > 0:\n",
    "        Sum += chNum % 10 #суммируем цифры числа начиная с конца\n",
    "        chNum /= 10       #убираем последнюю цифру числа\n",
    "    if (not (Sum % 3) and (i % 2)): #проверка элемента\n",
    "        print(\"Индекс:\", i, \" Элемент:\", nNum)\n",
    "    pr, num = num, pr\n",
    "    num += pr"
   ]
  }
 ],
 "metadata": {
  "kernelspec": {
   "display_name": "Python 3",
   "language": "python",
   "name": "python3"
  },
  "language_info": {
   "codemirror_mode": {
    "name": "ipython",
    "version": 3
   },
   "file_extension": ".py",
   "mimetype": "text/x-python",
   "name": "python",
   "nbconvert_exporter": "python",
   "pygments_lexer": "ipython3",
   "version": "3.8.8"
  }
 },
 "nbformat": 4,
 "nbformat_minor": 5
}
