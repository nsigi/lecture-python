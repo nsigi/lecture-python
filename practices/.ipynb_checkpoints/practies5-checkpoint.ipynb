{
 "cells": [
  {
   "cell_type": "markdown",
   "id": "7f57b58b",
   "metadata": {},
   "source": [
    "# Ханойские башни\n",
    "n = 1 | 1\n",
    "n = 2 | 3\n",
    "n = 3 | 7\n",
    "n = 4 | 15\n",
    "n = 64 | 2^64 - 1"
   ]
  },
  {
   "cell_type": "code",
   "execution_count": 13,
   "id": "0367d06c",
   "metadata": {},
   "outputs": [
    {
     "name": "stdout",
     "output_type": "stream",
     "text": [
      "Кол-во дисков: 4\n",
      "A -> B\n",
      "A -> C\n",
      "B -> C\n",
      "A -> B\n",
      "C -> A\n",
      "C -> B\n",
      "A -> B\n",
      "A -> C\n",
      "B -> C\n",
      "B -> A\n",
      "C -> A\n",
      "B -> C\n",
      "A -> B\n",
      "A -> C\n",
      "B -> C\n"
     ]
    }
   ],
   "source": [
    "#послед-ть ходов для выполнения ходов\n",
    "#src - главный стержень\n",
    "#tmp - временный\n",
    "#dst - стержень, куда перекладываем\n",
    "def tower(src, tmp, dst, n):\n",
    "    if(n > 1):\n",
    "        tower(src, dst, tmp, n-1)\n",
    "        print(src, \"->\", dst)\n",
    "        tower(tmp, src, dst, n-1)\n",
    "    else:\n",
    "        print(src, \"->\", dst)\n",
    "count = int(input(\"Кол-во дисков: \"))\n",
    "tower('A', 'B', 'C', count)"
   ]
  },
  {
   "cell_type": "code",
   "execution_count": 29,
   "id": "f4fd1c5d",
   "metadata": {},
   "outputs": [
    {
     "name": "stdout",
     "output_type": "stream",
     "text": [
      "Кол-во дисков: 2\n",
      "A -> C\n"
     ]
    }
   ],
   "source": [
    "#для 4 стержней\n",
    "#послед-ть ходов для выполнения ходов\n",
    "#src - главный стержень\n",
    "#tmp - временный\n",
    "#dst - стержень, куда перекладываем\n",
    "def tower(src, tmp1, tmp2, dst, n):\n",
    "    if(n > 1):\n",
    "        if(n != 2):\n",
    "            tower(src, dst, tmp2, tmp1, n-2)\n",
    "            print(src, \"->\", dst)\n",
    "            tower(tmp1, src, tmp2, dst, n-2)\n",
    "        else:\n",
    "            print(src, \"->\", tmp2)\n",
    "    else:\n",
    "        print(src, \"->\", dst)\n",
    "count = int(input(\"Кол-во дисков: \"))\n",
    "tower('A', 'B', 'C', 'D', count)\n",
    "\n",
    "#не получилось("
   ]
  },
  {
   "cell_type": "code",
   "execution_count": 44,
   "id": "1f1f5744",
   "metadata": {},
   "outputs": [
    {
     "name": "stdout",
     "output_type": "stream",
     "text": [
      "[0, 33, 40, 10, 15]\n"
     ]
    }
   ],
   "source": [
    "# новый список с элементами, у которых кол-во единиц в бин. виде четно\n",
    "def chNum(lst):\n",
    "   return [el for el in lst if (not bin(el).count('1') % 2)]\n",
    "list_val = [0, 2, 33, 40, 10, 15, 50, 61]\n",
    "print(chNum(list_val))"
   ]
  }
 ],
 "metadata": {
  "kernelspec": {
   "display_name": "Python 3",
   "language": "python",
   "name": "python3"
  },
  "language_info": {
   "codemirror_mode": {
    "name": "ipython",
    "version": 3
   },
   "file_extension": ".py",
   "mimetype": "text/x-python",
   "name": "python",
   "nbconvert_exporter": "python",
   "pygments_lexer": "ipython3",
   "version": "3.8.8"
  }
 },
 "nbformat": 4,
 "nbformat_minor": 5
}
