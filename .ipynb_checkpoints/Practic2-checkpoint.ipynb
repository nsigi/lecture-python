{
 "cells": [
  {
   "cell_type": "markdown",
   "metadata": {
    "id": "a3fCVYmaazu5"
   },
   "source": [
    "# Practic 2"
   ]
  },
  {
   "cell_type": "code",
   "execution_count": null,
   "metadata": {
    "colab": {
     "base_uri": "https://localhost:8080/"
    },
    "id": "MiCyB2ZLehVT",
    "outputId": "019a340f-3355-452e-8fbf-76595cfc8a1c"
   },
   "outputs": [
    {
     "name": "stdout",
     "output_type": "stream",
     "text": [
      "[0, 3, 2, 1, 4]\n"
     ]
    }
   ],
   "source": [
    "lst = [ i for i in range(5) ]\n",
    "n = 1\n",
    "k = 3\n",
    "lst[n:k + 1] = lst[k:n - 1: -1]\n",
    "print(lst)"
   ]
  },
  {
   "cell_type": "code",
   "execution_count": 2,
   "metadata": {
    "id": "NGU8xzI6h8bn"
   },
   "outputs": [
    {
     "name": "stdout",
     "output_type": "stream",
     "text": [
      "SubString:a\n",
      "['aa', 'ab', 'abba', 'aaaa']\n"
     ]
    }
   ],
   "source": [
    "lst = [ 'aa', 'ab', 'abba', 'aaaa' ]\n",
    "k = input('SubString:')\n",
    "blst = []\n",
    "for i in range(len(lst)):\n",
    "  nlst = lst[i]\n",
    "  if k == nlst[0:len(k)]:\n",
    "    blst.append(nlst)\n",
    "print(blst)"
   ]
  },
  {
   "cell_type": "code",
   "execution_count": 4,
   "metadata": {
    "colab": {
     "base_uri": "https://localhost:8080/"
    },
    "id": "-My0V8DylYdD",
    "outputId": "49cd42fb-fb52-4ee8-c599-09f1c4b1ac25"
   },
   "outputs": [
    {
     "name": "stdout",
     "output_type": "stream",
     "text": [
      "SubString:a\n",
      "['ab', 'aaaa']\n"
     ]
    }
   ],
   "source": [
    "lst = [ 'aa', 'ab', 'abba', 'aaaa' ]\n",
    "k = input('SubString:')\n",
    "\n",
    "for lsti in lst:\n",
    "  if k == lsti[:len(k)]:\n",
    "    lst.remove(lsti)\n",
    "\n",
    "print(lst)"
   ]
  },
  {
   "cell_type": "code",
   "execution_count": 25,
   "metadata": {},
   "outputs": [
    {
     "ename": "AttributeError",
     "evalue": "'str' object has no attribute 'startswitch'",
     "output_type": "error",
     "traceback": [
      "\u001b[1;31m---------------------------------------------------------------------------\u001b[0m",
      "\u001b[1;31mAttributeError\u001b[0m                            Traceback (most recent call last)",
      "\u001b[1;32m<ipython-input-25-83f82921a60c>\u001b[0m in \u001b[0;36m<module>\u001b[1;34m\u001b[0m\n\u001b[0;32m      1\u001b[0m \u001b[0mlst\u001b[0m \u001b[1;33m=\u001b[0m \u001b[1;33m[\u001b[0m \u001b[1;34m'aa'\u001b[0m\u001b[1;33m,\u001b[0m \u001b[1;34m'abc'\u001b[0m\u001b[1;33m,\u001b[0m \u001b[1;34m'abba'\u001b[0m\u001b[1;33m,\u001b[0m \u001b[1;34m'aaaa'\u001b[0m \u001b[1;33m]\u001b[0m\u001b[1;33m\u001b[0m\u001b[1;33m\u001b[0m\u001b[0m\n\u001b[1;32m----> 2\u001b[1;33m \u001b[0mq\u001b[0m \u001b[1;33m=\u001b[0m \u001b[1;33m[\u001b[0m\u001b[0mi\u001b[0m \u001b[1;32mfor\u001b[0m \u001b[0mi\u001b[0m \u001b[1;32min\u001b[0m \u001b[0mlst\u001b[0m \u001b[1;32mif\u001b[0m \u001b[1;32mnot\u001b[0m \u001b[0mi\u001b[0m\u001b[1;33m.\u001b[0m\u001b[0mstartswitch\u001b[0m\u001b[1;33m(\u001b[0m\u001b[1;34m'aa'\u001b[0m\u001b[1;33m)\u001b[0m\u001b[1;33m]\u001b[0m\u001b[1;33m\u001b[0m\u001b[1;33m\u001b[0m\u001b[0m\n\u001b[0m\u001b[0;32m      3\u001b[0m \u001b[0mprint\u001b[0m\u001b[1;33m(\u001b[0m\u001b[0mq\u001b[0m\u001b[1;33m)\u001b[0m\u001b[1;33m\u001b[0m\u001b[1;33m\u001b[0m\u001b[0m\n",
      "\u001b[1;32m<ipython-input-25-83f82921a60c>\u001b[0m in \u001b[0;36m<listcomp>\u001b[1;34m(.0)\u001b[0m\n\u001b[0;32m      1\u001b[0m \u001b[0mlst\u001b[0m \u001b[1;33m=\u001b[0m \u001b[1;33m[\u001b[0m \u001b[1;34m'aa'\u001b[0m\u001b[1;33m,\u001b[0m \u001b[1;34m'abc'\u001b[0m\u001b[1;33m,\u001b[0m \u001b[1;34m'abba'\u001b[0m\u001b[1;33m,\u001b[0m \u001b[1;34m'aaaa'\u001b[0m \u001b[1;33m]\u001b[0m\u001b[1;33m\u001b[0m\u001b[1;33m\u001b[0m\u001b[0m\n\u001b[1;32m----> 2\u001b[1;33m \u001b[0mq\u001b[0m \u001b[1;33m=\u001b[0m \u001b[1;33m[\u001b[0m\u001b[0mi\u001b[0m \u001b[1;32mfor\u001b[0m \u001b[0mi\u001b[0m \u001b[1;32min\u001b[0m \u001b[0mlst\u001b[0m \u001b[1;32mif\u001b[0m \u001b[1;32mnot\u001b[0m \u001b[0mi\u001b[0m\u001b[1;33m.\u001b[0m\u001b[0mstartswitch\u001b[0m\u001b[1;33m(\u001b[0m\u001b[1;34m'aa'\u001b[0m\u001b[1;33m)\u001b[0m\u001b[1;33m]\u001b[0m\u001b[1;33m\u001b[0m\u001b[1;33m\u001b[0m\u001b[0m\n\u001b[0m\u001b[0;32m      3\u001b[0m \u001b[0mprint\u001b[0m\u001b[1;33m(\u001b[0m\u001b[0mq\u001b[0m\u001b[1;33m)\u001b[0m\u001b[1;33m\u001b[0m\u001b[1;33m\u001b[0m\u001b[0m\n",
      "\u001b[1;31mAttributeError\u001b[0m: 'str' object has no attribute 'startswitch'"
     ]
    }
   ],
   "source": [
    "lst = [ 'aa', 'abc', 'abba', 'aaaa' ]\n",
    "q = [i for i in lst if not i.startswitch('aa')]\n",
    "print(q)"
   ]
  },
  {
   "cell_type": "code",
   "execution_count": 18,
   "metadata": {
    "colab": {
     "base_uri": "https://localhost:8080/"
    },
    "id": "k-4GEMj7oeSo",
    "outputId": "7fdd0921-cd27-4e9e-9d94-bbce80d92554"
   },
   "outputs": [
    {
     "name": "stdout",
     "output_type": "stream",
     "text": [
      "['abc', 'abba']\n"
     ]
    }
   ],
   "source": [
    "lst = [ 'aa', 'abc', 'abba', 'aaaa' ]\n",
    "x = 'aa'\n",
    "for i in lst:\n",
    "  if i.startswith(x):\n",
    "    del lst[lst.index(i)]\n",
    "print(lst)"
   ]
  },
  {
   "cell_type": "markdown",
   "metadata": {
    "id": "XKmtQrA7pKak"
   },
   "source": [
    "# К чему приводит изменение списка внутри цикла (опасно это или нет почему?)"
   ]
  },
  {
   "cell_type": "markdown",
   "metadata": {
    "id": "IxVVVCphpWiA"
   },
   "source": [
    "### P(x) = a0 + a1x + a2x^2 + ... + anx^n\n",
    "коэф a = [a0, a1, a2, ... an]\n",
    "степ p = [p0, p1, p2, ... pn]"
   ]
  },
  {
   "cell_type": "code",
   "execution_count": 5,
   "metadata": {},
   "outputs": [
    {
     "name": "stdout",
     "output_type": "stream",
     "text": [
      "Введите x: 3\n",
      "7\n",
      "7\n"
     ]
    }
   ],
   "source": [
    "a = [1, -1, 1]  # 1*x^3 + 2x^3 - 3x^2\n",
    "p = [2, 1, 0]\n",
    "\n",
    "# Написать алгоритм вычисления значения многочлена в заданной точке\n",
    "x = int(input(\"Введите x: \"))\n",
    "\n",
    "s = 0\n",
    "for i in range(len(a)):\n",
    "    s +=  a[i] * (x ** p[i])\n",
    "print(s)\n",
    "\n",
    "s = 0\n",
    "for a_val, p_val in zip(a,p):\n",
    "    s +=  a_val * (x ** p_val)    \n",
    "print(s)"
   ]
  },
  {
   "cell_type": "code",
   "execution_count": null,
   "metadata": {
    "id": "TOBGxicEpIC7"
   },
   "outputs": [],
   "source": [
    "a = [1, -1, 1]  # 1*x^3 + 2x^3 - 3x^2\n",
    "p = [2, 1, 0]\n",
    "\n",
    "# Написать алгоритм вычисления значения многочлена в заданной точке через map\n",
    "x = int(input(\"Введите x: \"))\n",
    "x_list = [x] * len(a)\n",
    "lst = list(map(lambda a_val, p_val, x_val:  a_val * (x_val ** p_val), a, p, x_list))\n",
    "#map - возвраещ объект map\n",
    "sum = 0\n",
    "for i in lst:\n",
    "    sum += i\n",
    "    \n",
    "print(lst, ' - ', sum)\n",
    "# 1 map 2 zip"
   ]
  }
 ],
 "metadata": {
  "colab": {
   "name": "Practic2.ipynb",
   "provenance": []
  },
  "kernelspec": {
   "display_name": "Python 3",
   "language": "python",
   "name": "python3"
  },
  "language_info": {
   "codemirror_mode": {
    "name": "ipython",
    "version": 3
   },
   "file_extension": ".py",
   "mimetype": "text/x-python",
   "name": "python",
   "nbconvert_exporter": "python",
   "pygments_lexer": "ipython3",
   "version": "3.8.8"
  }
 },
 "nbformat": 4,
 "nbformat_minor": 1
}
