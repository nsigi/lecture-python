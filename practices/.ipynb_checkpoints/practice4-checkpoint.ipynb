{
 "cells": [
  {
   "cell_type": "code",
   "execution_count": 39,
   "id": "584dacab",
   "metadata": {},
   "outputs": [
    {
     "name": "stdout",
     "output_type": "stream",
     "text": [
      "2\n"
     ]
    }
   ],
   "source": [
    "def find_val(list_val, start, stop, val):\n",
    "    if (start <= stop):\n",
    "        mid = (stop + start) // 2\n",
    "        #print(mid, list_val[mid])\n",
    "        if (list_val[mid] < val):\n",
    "            return find_val(list_val, mid + 1, stop, val)\n",
    "        elif (list_val[mid] > val):\n",
    "            return find_val(list_val, start, mid - 1, val)\n",
    "        else:\n",
    "            return mid\n",
    "    return None\n",
    "    \n",
    "list_val = [-5, -3, 0, 2, 7, 8, 10, 15, 50, 61]\n",
    "print(find_val(list_val, 0, 9, 0))"
   ]
  },
  {
   "cell_type": "code",
   "execution_count": 56,
   "id": "fd462a1b",
   "metadata": {},
   "outputs": [
    {
     "name": "stdout",
     "output_type": "stream",
     "text": [
      "55\n"
     ]
    }
   ],
   "source": [
    "def fib(i):\n",
    "    if i > 2:\n",
    "        return fib(i - 1) + fib(i - 2)\n",
    "    elif i == 0:\n",
    "        return 0\n",
    "    return 1\n",
    "print(fib(10))"
   ]
  },
  {
   "cell_type": "code",
   "execution_count": 66,
   "id": "73eacde3",
   "metadata": {},
   "outputs": [
    {
     "name": "stdout",
     "output_type": "stream",
     "text": [
      "89\n"
     ]
    }
   ],
   "source": [
    "#кол-во рекурсивных вызовов меньше, чем в случае выше\n",
    "def fib(n_2, n_1, i):\n",
    "    if i > 2:\n",
    "        return fib(n_1, n_2 + n_1, i - 1)\n",
    "    elif i == 0:\n",
    "        return 0\n",
    "    return n_2 + n_1\n",
    "print(fib(0, 1, 11))"
   ]
  },
  {
   "cell_type": "code",
   "execution_count": 85,
   "id": "31aa6e94",
   "metadata": {},
   "outputs": [
    {
     "name": "stdout",
     "output_type": "stream",
     "text": [
      "{'one': 1, 'two': 2, 'three': 3, 'four': 16, 'five': 25, 'siix': 36}\n"
     ]
    }
   ],
   "source": [
    "def func(d):\n",
    "    for key in d.keys():\n",
    "        if not len(key) % 2:\n",
    "            d[key] *= d[key]\n",
    "d = {'one': 1, 'two': 2, 'three': 3, 'four': 4, 'five': 5, 'siix': 6}\n",
    "func(d)\n",
    "print(d)"
   ]
  }
 ],
 "metadata": {
  "kernelspec": {
   "display_name": "Python 3",
   "language": "python",
   "name": "python3"
  },
  "language_info": {
   "codemirror_mode": {
    "name": "ipython",
    "version": 3
   },
   "file_extension": ".py",
   "mimetype": "text/x-python",
   "name": "python",
   "nbconvert_exporter": "python",
   "pygments_lexer": "ipython3",
   "version": "3.8.8"
  }
 },
 "nbformat": 4,
 "nbformat_minor": 5
}
