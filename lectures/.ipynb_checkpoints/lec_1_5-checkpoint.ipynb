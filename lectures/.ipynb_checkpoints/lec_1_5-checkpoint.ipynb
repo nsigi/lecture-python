{
 "cells": [
  {
   "cell_type": "markdown",
   "metadata": {},
   "source": [
    "# Работа с файлами"
   ]
  },
  {
   "cell_type": "markdown",
   "metadata": {},
   "source": [
    "1. Открыть файл.\n",
    "2. Прочитать/записать данные.\n",
    "3. Закрыть файл."
   ]
  },
  {
   "cell_type": "markdown",
   "metadata": {},
   "source": [
    "## Открытие / Закрытие"
   ]
  },
  {
   "cell_type": "markdown",
   "metadata": {},
   "source": [
    "Функция открытия файла:\n",
    "\n",
    "`open(file, mode='r', buffering=-1, encoding=None, errors=None, newline=None, closefd=True)`\n",
    "\n",
    "* file - имя файла / дискриптор файла.\n",
    "* mode - режим открытия.\n",
    "* buffering - 0 = отключить буферизацию (только для двоичного режима); 1 = построчная буферизация (только для текстового режима); > 1 = размер буфера в байтах.\n",
    "* encoding - кодировка файла (для текстовых файлов).\n",
    "* errors - режим обработки ошибок (для текстовых файлов).\n",
    "* newline - режим перевода строк (для текстовых файлов).\n",
    "* closefd - флаг необходимости закрытия файлового дескриптора (если file дискриптор). "
   ]
  },
  {
   "cell_type": "markdown",
   "metadata": {},
   "source": [
    "Значение `mode`:\n",
    "\n",
    "| Режим\t | Обозначение |\n",
    "| --- | --- |\n",
    "| 'r' | Чтение (по умолчанию) |\n",
    "| '+' | Чтение и запись |\n",
    "| 'w' | Запись, файл будет перезаписан/создан |\n",
    "| 'x' | Запись, для несуществующего файла, в противном случае исключение |\n",
    "| 'a' | Запись, файл будет дописан |\n",
    "| 'b' | Открытие двоичного файла |\n",
    "| 't' | Открытие текстового файла (по умолчанию) |\n",
    "\n",
    "Режимы могут комбинироваться: \n",
    "* r, rt - открыть текстовый файл на чтение, указатель в начале файла;\n",
    "* r+, rt+ - открыть текстовый файл на чтение/запись, указатель в начале файла; \n",
    "* w+, wt+ - создать/открыть бинарный файл на чтение/запись, указатель в начале файла;  \n",
    "...\n",
    "* rb - открыть бинарный файл для чтения;\n",
    "* rb+ - открыть бинарный файл для чтения/записи; \n",
    "* wb+ - создать бинарный файл для чтения/записи;"
   ]
  },
  {
   "cell_type": "code",
   "execution_count": 1,
   "metadata": {},
   "outputs": [
    {
     "ename": "FileNotFoundError",
     "evalue": "[Errno 2] No such file or directory: 'text.txt'",
     "output_type": "error",
     "traceback": [
      "\u001b[1;31m---------------------------------------------------------------------------\u001b[0m",
      "\u001b[1;31mFileNotFoundError\u001b[0m                         Traceback (most recent call last)",
      "\u001b[1;32m<ipython-input-1-a69a5f031421>\u001b[0m in \u001b[0;36m<module>\u001b[1;34m\u001b[0m\n\u001b[1;32m----> 1\u001b[1;33m \u001b[0mf\u001b[0m \u001b[1;33m=\u001b[0m \u001b[0mopen\u001b[0m\u001b[1;33m(\u001b[0m\u001b[1;34m'text.txt'\u001b[0m\u001b[1;33m,\u001b[0m \u001b[1;34m'r'\u001b[0m\u001b[1;33m)\u001b[0m\u001b[1;33m\u001b[0m\u001b[1;33m\u001b[0m\u001b[0m\n\u001b[0m\u001b[0;32m      2\u001b[0m \u001b[0mf\u001b[0m\u001b[1;33m.\u001b[0m\u001b[0mclose\u001b[0m\u001b[1;33m(\u001b[0m\u001b[1;33m)\u001b[0m\u001b[1;33m\u001b[0m\u001b[1;33m\u001b[0m\u001b[0m\n",
      "\u001b[1;31mFileNotFoundError\u001b[0m: [Errno 2] No such file or directory: 'text.txt'"
     ]
    }
   ],
   "source": [
    "f = open('text.txt', 'r')\n",
    "f.close()"
   ]
  },
  {
   "cell_type": "markdown",
   "metadata": {},
   "source": [
    "Не забывайте закрывать файл!!!"
   ]
  },
  {
   "cell_type": "markdown",
   "metadata": {},
   "source": [
    "При открытии файлов могут возникать исключения"
   ]
  },
  {
   "cell_type": "code",
   "execution_count": 2,
   "metadata": {},
   "outputs": [
    {
     "ename": "FileNotFoundError",
     "evalue": "[Errno 2] No such file or directory: 'my.txt'",
     "output_type": "error",
     "traceback": [
      "\u001b[1;31m---------------------------------------------------------------------------\u001b[0m",
      "\u001b[1;31mFileNotFoundError\u001b[0m                         Traceback (most recent call last)",
      "\u001b[1;32m<ipython-input-2-c508f865c25d>\u001b[0m in \u001b[0;36m<module>\u001b[1;34m\u001b[0m\n\u001b[1;32m----> 1\u001b[1;33m \u001b[0mf\u001b[0m \u001b[1;33m=\u001b[0m \u001b[0mopen\u001b[0m\u001b[1;33m(\u001b[0m\u001b[1;34m'my.txt'\u001b[0m\u001b[1;33m,\u001b[0m \u001b[1;34m'r'\u001b[0m\u001b[1;33m)\u001b[0m\u001b[1;33m\u001b[0m\u001b[1;33m\u001b[0m\u001b[0m\n\u001b[0m",
      "\u001b[1;31mFileNotFoundError\u001b[0m: [Errno 2] No such file or directory: 'my.txt'"
     ]
    }
   ],
   "source": [
    "f = open('my.txt', 'r')"
   ]
  },
  {
   "cell_type": "markdown",
   "metadata": {},
   "source": [
    "Для безопасного открытия используют менеджеры контекста и отлавливание исключений"
   ]
  },
  {
   "cell_type": "code",
   "execution_count": null,
   "metadata": {},
   "outputs": [],
   "source": [
    "with open('text.txt', 'r') as f:\n",
    "    # Действия над содержимым файла\n",
    "    pass"
   ]
  },
  {
   "cell_type": "code",
   "execution_count": null,
   "metadata": {},
   "outputs": [],
   "source": [
    "try:\n",
    "    with open('text.txt', 'r') as f:\n",
    "        # Действия над содержимым файла\n",
    "        pass\n",
    "except IOError:\n",
    "    print('IOError')"
   ]
  },
  {
   "cell_type": "markdown",
   "metadata": {},
   "source": [
    "Менеджер контекста самостоятельно закрывает файл. "
   ]
  },
  {
   "cell_type": "markdown",
   "metadata": {},
   "source": [
    "## Работа с содержимым\n"
   ]
  },
  {
   "cell_type": "markdown",
   "metadata": {},
   "source": [
    "#### Метод read(size=-1)\n",
    "Читает size байт, если не указано, то весь файл."
   ]
  },
  {
   "cell_type": "code",
   "execution_count": 3,
   "metadata": {},
   "outputs": [
    {
     "name": "stdout",
     "output_type": "stream",
     "text": [
      "Type: <class 'str'>\n",
      "\n",
      "Len: 16\n",
      "\n",
      "esfdfdsfv 86 9 o\n"
     ]
    }
   ],
   "source": [
    "try:\n",
    "    with open('text.txt', 'r') as f:\n",
    "        data = f.read()\n",
    "        print(\"Type: \", type(data), \"\\n\\n\", \"Len: \", len(data), \"\\n\\n\", data, sep=\"\")\n",
    "except IOError:\n",
    "    print('IOError')"
   ]
  },
  {
   "cell_type": "code",
   "execution_count": 4,
   "metadata": {},
   "outputs": [
    {
     "name": "stdout",
     "output_type": "stream",
     "text": [
      "Type: <class 'str'>\n",
      "\n",
      "Len: 16\n",
      "\n",
      "esfdfdsfv 86 9 o\n"
     ]
    }
   ],
   "source": [
    "try:\n",
    "    with open('text.txt', 'r') as f:\n",
    "        data = f.read(100)\n",
    "        print(\"Type: \", type(data), \"\\n\\n\", \"Len: \", len(data), \"\\n\\n\", data, sep=\"\")\n",
    "except IOError:\n",
    "    print('IOError')"
   ]
  },
  {
   "cell_type": "code",
   "execution_count": 5,
   "metadata": {},
   "outputs": [
    {
     "name": "stdout",
     "output_type": "stream",
     "text": [
      "IOError\n"
     ]
    }
   ],
   "source": [
    "try:\n",
    "    with open('data.b', 'br') as f:\n",
    "        data = f.read()\n",
    "        print(\"Type: \", type(data), \"\\n\\n\", \"Len: \", len(data), \"\\n\\n\", data, sep=\"\")\n",
    "except IOError:\n",
    "    print('IOError')"
   ]
  },
  {
   "cell_type": "markdown",
   "metadata": {},
   "source": [
    "#### Метод readline(size=-1)\n",
    "Читает size байт в строке, если не указано, то всю строку.\n",
    "\n",
    "Некорректно применять к бинарным файлам."
   ]
  },
  {
   "cell_type": "code",
   "execution_count": 6,
   "metadata": {},
   "outputs": [
    {
     "name": "stdout",
     "output_type": "stream",
     "text": [
      "Type: <class 'str'>\n",
      "\n",
      "Len: 16\n",
      "\n",
      "esfdfdsfv 86 9 o\n"
     ]
    }
   ],
   "source": [
    "try:\n",
    "    with open('text.txt', 'r') as f:\n",
    "        data = f.readline()\n",
    "        print(\"Type: \", type(data), \"\\n\\n\", \"Len: \", len(data), \"\\n\\n\", data, sep=\"\")\n",
    "except IOError:\n",
    "    print('IOError')"
   ]
  },
  {
   "cell_type": "code",
   "execution_count": 7,
   "metadata": {},
   "outputs": [
    {
     "name": "stdout",
     "output_type": "stream",
     "text": [
      "Type: <class 'str'>\n",
      "\n",
      "Len: 10\n",
      "\n",
      "esfdfdsfv \n"
     ]
    }
   ],
   "source": [
    "try:\n",
    "    with open('text.txt', 'r') as f:\n",
    "        data = f.readline(10)\n",
    "        print(\"Type: \", type(data), \"\\n\\n\", \"Len: \", len(data), \"\\n\\n\", data, sep=\"\")\n",
    "except IOError:\n",
    "    print('IOError')"
   ]
  },
  {
   "cell_type": "code",
   "execution_count": 8,
   "metadata": {},
   "outputs": [
    {
     "name": "stdout",
     "output_type": "stream",
     "text": [
      "esfdfdsfv \n",
      "86 9 o\n"
     ]
    }
   ],
   "source": [
    "try:\n",
    "    with open('text.txt', 'r') as f:\n",
    "        while True:\n",
    "            data = f.readline(10)\n",
    "            if data:\n",
    "                print(data)\n",
    "            else:\n",
    "                break                \n",
    "except IOError:\n",
    "    print('IOError')"
   ]
  },
  {
   "cell_type": "code",
   "execution_count": 9,
   "metadata": {},
   "outputs": [
    {
     "name": "stdout",
     "output_type": "stream",
     "text": [
      "IOError\n"
     ]
    }
   ],
   "source": [
    "try:\n",
    "    with open('data.b', 'br') as f:\n",
    "        data = f.readline()\n",
    "        print(\"Type: \", type(data), \"\\n\\n\", \"Len: \", len(data), \"\\n\\n\", data, sep=\"\")\n",
    "except IOError:\n",
    "    print('IOError')"
   ]
  },
  {
   "cell_type": "markdown",
   "metadata": {},
   "source": [
    "#### Метод readlines()\n",
    "Считывает все строки и возвращает их в виде списка.\n",
    "\n",
    "Некорректно применять к бинарным файлам."
   ]
  },
  {
   "cell_type": "code",
   "execution_count": 13,
   "metadata": {},
   "outputs": [
    {
     "name": "stdout",
     "output_type": "stream",
     "text": [
      "Type: <class 'list'>\n",
      "\n",
      "Len: 6\n",
      "\n",
      "['esfdfdsfv 86 9 o\\n', \"'kjohj\\n\", 'lgyglj\\n', 'khig;jm\\n', '\\n', 'lbn']\n"
     ]
    }
   ],
   "source": [
    "try:\n",
    "    with open('text.txt', 'r') as f:\n",
    "        data = f.readlines()\n",
    "        print(\"Type: \", type(data), \"\\n\\n\", \"Len: \", len(data), \"\\n\\n\", data, sep=\"\")\n",
    "except IOError:\n",
    "    print('IOError')"
   ]
  },
  {
   "cell_type": "code",
   "execution_count": 12,
   "metadata": {},
   "outputs": [
    {
     "name": "stdout",
     "output_type": "stream",
     "text": [
      "esfdfdsfv \n",
      "'kjohj\n",
      "\n",
      "lgyglj\n",
      "\n",
      "khig;jm\n",
      "\n",
      "\n",
      "\n",
      "lbn\n"
     ]
    }
   ],
   "source": [
    "try:\n",
    "    with open('text.txt', 'r') as f:\n",
    "        data = f.readlines()\n",
    "        for line in data:\n",
    "            print(line[:10])\n",
    "except IOError:\n",
    "    print('IOError')"
   ]
  },
  {
   "cell_type": "code",
   "execution_count": 14,
   "metadata": {},
   "outputs": [
    {
     "name": "stdout",
     "output_type": "stream",
     "text": [
      "IOError\n"
     ]
    }
   ],
   "source": [
    "try:\n",
    "    with open('data.b', 'br') as f:\n",
    "        data = f.readlines()\n",
    "        print(\"Type: \", type(data), \"\\n\\n\", \"Len: \", len(data), \"\\n\\n\", data, sep=\"\")\n",
    "        print(len(data))\n",
    "except IOError:\n",
    "    print('IOError')"
   ]
  },
  {
   "cell_type": "markdown",
   "metadata": {},
   "source": [
    "#### Метод write(data)\n",
    "Пишет данные в файл. Возвращает количество записанных байтов."
   ]
  },
  {
   "cell_type": "code",
   "execution_count": 15,
   "metadata": {},
   "outputs": [
    {
     "name": "stdout",
     "output_type": "stream",
     "text": [
      "12\n"
     ]
    }
   ],
   "source": [
    "try:\n",
    "    with open('test.txt', 'w') as f:\n",
    "        print(f.write(\"It's a test.\"))\n",
    "except IOError:\n",
    "    print('IOError')"
   ]
  },
  {
   "cell_type": "code",
   "execution_count": null,
   "metadata": {},
   "outputs": [],
   "source": [
    "%pycat test.txt"
   ]
  },
  {
   "cell_type": "code",
   "execution_count": 16,
   "metadata": {},
   "outputs": [
    {
     "name": "stdout",
     "output_type": "stream",
     "text": [
      "5\n"
     ]
    }
   ],
   "source": [
    "try:\n",
    "    with open('test.b', 'wb') as f:\n",
    "        print(f.write(bytes([97, 98, 99, 100, 101])))\n",
    "except IOError:\n",
    "    print('IOError')"
   ]
  },
  {
   "cell_type": "code",
   "execution_count": null,
   "metadata": {},
   "outputs": [],
   "source": [
    "%pycat test.b"
   ]
  },
  {
   "cell_type": "markdown",
   "metadata": {},
   "source": [
    "#### Метод writelines(data)\n",
    "Пишет строки в файл. Перенос строки автоматически не добавляется.\n",
    "\n",
    "Некорректно применять к бинарным файлам."
   ]
  },
  {
   "cell_type": "code",
   "execution_count": 17,
   "metadata": {},
   "outputs": [
    {
     "name": "stdout",
     "output_type": "stream",
     "text": [
      "None\n"
     ]
    }
   ],
   "source": [
    "try:\n",
    "    with open('test.txt', 'w') as f:\n",
    "        print(f.writelines([\"One\\n\", \"Two\", \"Three\"]))\n",
    "except IOError:\n",
    "    print('IOError')"
   ]
  },
  {
   "cell_type": "code",
   "execution_count": null,
   "metadata": {},
   "outputs": [],
   "source": [
    "%pycat test.txt"
   ]
  },
  {
   "cell_type": "code",
   "execution_count": 18,
   "metadata": {},
   "outputs": [
    {
     "name": "stdout",
     "output_type": "stream",
     "text": [
      "None\n"
     ]
    }
   ],
   "source": [
    "try:\n",
    "    with open('test.b', 'wb') as f:\n",
    "        print(f.writelines([bytes([97, 98]), bytes([99, 100])]))\n",
    "except IOError:\n",
    "    print('IOError')"
   ]
  },
  {
   "cell_type": "code",
   "execution_count": null,
   "metadata": {},
   "outputs": [],
   "source": [
    "%pycat test.b"
   ]
  },
  {
   "cell_type": "markdown",
   "metadata": {},
   "source": [
    "#### Метод flush()\n",
    "Форсирование буфферизации."
   ]
  },
  {
   "cell_type": "markdown",
   "metadata": {},
   "source": [
    "#### Метод seek(offset, from_what=0)\n",
    "Делает смещение на offset байтов, относительно позиции from_what (0 — начало файла; 1 — текущая позиция)."
   ]
  },
  {
   "cell_type": "markdown",
   "metadata": {},
   "source": [
    "#### Метод tell()\n",
    "Возвращает текущую позицию указателя в файле"
   ]
  },
  {
   "cell_type": "markdown",
   "metadata": {},
   "source": [
    "## Пример"
   ]
  },
  {
   "cell_type": "markdown",
   "metadata": {},
   "source": [
    "В файле хранится статистика по пассажирам Титаника.\n",
    "\n",
    "Исходные данные были взяты [тут](https://www.kaggle.com/c/titanic/data).\n",
    "\n",
    "Перепишем в новый файл все записи с указанием кают. Остальные записи будем пропускать."
   ]
  },
  {
   "cell_type": "code",
   "execution_count": 21,
   "metadata": {},
   "outputs": [],
   "source": [
    "with open('titanic.csv', 'r') as f_input, open('result.csv', 'w') as f_output:\n",
    "    header = f_input.readline()\n",
    "    f_output.write(header)\n",
    "    data = f_input.readlines()\n",
    "    for line in data:        \n",
    "        cabin = line[line.rfind(\",\") + 1:-1]\n",
    "        #print(line, line[line.rfind(\",\") + 1:-1])\n",
    "        if cabin:\n",
    "            f_output.write(line)"
   ]
  },
  {
   "cell_type": "code",
   "execution_count": 22,
   "metadata": {},
   "outputs": [],
   "source": [
    "try:\n",
    "    with open('titanic.csv', 'r') as f_input, open('result.csv', 'w') as f_output:\n",
    "        header = f_input.readline()\n",
    "        f_output.write(header)\n",
    "        data = f_input.readlines()\n",
    "        for line in data:\n",
    "            cabin = line[:-1].split(\",\")[-1]\n",
    "            if cabin:\n",
    "                f_output.write(line)\n",
    "except IOError:\n",
    "    print('IOError')"
   ]
  },
  {
   "cell_type": "code",
   "execution_count": null,
   "metadata": {},
   "outputs": [],
   "source": []
  }
 ],
 "metadata": {
  "kernelspec": {
   "display_name": "Python 3",
   "language": "python",
   "name": "python3"
  },
  "language_info": {
   "codemirror_mode": {
    "name": "ipython",
    "version": 3
   },
   "file_extension": ".py",
   "mimetype": "text/x-python",
   "name": "python",
   "nbconvert_exporter": "python",
   "pygments_lexer": "ipython3",
   "version": "3.8.8"
  }
 },
 "nbformat": 4,
 "nbformat_minor": 2
}
