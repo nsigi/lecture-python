{
 "cells": [
  {
   "cell_type": "markdown",
   "id": "c67a2e32",
   "metadata": {},
   "source": [
    "# Матрицы "
   ]
  },
  {
   "cell_type": "raw",
   "id": "f2bb265a",
   "metadata": {},
   "source": [
    "матрицы через списки делаются "
   ]
  },
  {
   "cell_type": "code",
   "execution_count": 3,
   "id": "7b1bcfdc",
   "metadata": {},
   "outputs": [
    {
     "name": "stdout",
     "output_type": "stream",
     "text": [
      "[[9, 10, 11, 12]]\n"
     ]
    }
   ],
   "source": [
    "matr = [[1, 2, 3, 4], [5, 6, 7, 8], [9, 10, 11, 12], [13, 14, 15, 16]]\n",
    "matr[0][0]==1\n",
    "print(matr[1:3]) #[[5, 6, 7, 8], [9, 10, 11, 12]]\n",
    "print(matr[1:3][1:3]) #применяется ко 2 срезу [[5, 6, 7, 8], [9, 10, 11, 12]]"
   ]
  },
  {
   "cell_type": "code",
   "execution_count": null,
   "id": "3e25a14a",
   "metadata": {},
   "outputs": [],
   "source": [
    "#сумма эл-ов над побочной диагональю\n",
    "matr = [[1, 2, 3, 4], [5, 6, 7, 8], [9, 10, 11, 12], [13, 14, 15, 16]]\n",
    "len(matr)\n",
    "p = 1\n",
    "s = 0\n",
    "for string in matr:\n",
    "    for i in range(0, (len(string) -  p)):\n",
    "        s += string[i]\n",
    "       # print(i)\n",
    "    #print(string)\n",
    "    p += 1\n",
    "    \n",
    "s = 0                     #быстрее\n",
    "length = len(matr)-1\n",
    "for i in range(length):\n",
    "    s += sum(matr[i][:(length-i)]);\n",
    "    #print(matr[i][0: (length-i-1)])\n",
    "print(s)       "
   ]
  },
  {
   "cell_type": "code",
   "execution_count": 91,
   "id": "7cf3bf83",
   "metadata": {},
   "outputs": [
    {
     "name": "stdout",
     "output_type": "stream",
     "text": [
      "14\n",
      "10\n",
      "15\n",
      "20\n",
      "59\n"
     ]
    }
   ],
   "source": [
    "# вычислить сумму эл-ов под побочной и над главной диагональю\n",
    "#matr = [[1, 2, 3, 4], [5, 6, 7, 8], [9, 10, 11, 12], [13, 14, 15, 16]]\n",
    "matr = [[1, 2, 3, 4, 5], [6, 7, 8, 9, 10], [11, 12, 13, 14, 15], [16, 17, 18, 19, 20], [21, 22, 23, 24, 25]]\n",
    "s = 0                     \n",
    "for j in range(len(matr)//2 + 1, len(matr)):\n",
    "    for i in range(len(matr) - j, j):\n",
    "        s += matr[i][j]\n",
    "        print(matr[i][j])\n",
    " #   print(matr[j])\n",
    "print(s)"
   ]
  },
  {
   "cell_type": "code",
   "execution_count": 108,
   "id": "7b62f0db",
   "metadata": {},
   "outputs": [
    {
     "name": "stdout",
     "output_type": "stream",
     "text": [
      "Введите символ: 3\n",
      "['ад33333', 'вода333', 'ветер33', 'земля33', 'огонь33', 'магма33', 'воздух3', 'молния3', 'пустота']\n"
     ]
    }
   ],
   "source": [
    "#отсортировать список слов по длине и все слова короче самого длинного, должны быть дополнены символом c\n",
    "words = ['воздух', 'ветер', 'молния', 'вода', 'земля', 'огонь', 'магма', 'пустота', 'ад']\n",
    "c = input(\"Введите символ: \")\n",
    "\n",
    "words.sort(key = len)\n",
    "maxLength = len(words[-1])\n",
    "newList = [el.ljust(maxLength, c) for el in words]\n",
    "print(newList)"
   ]
  }
 ],
 "metadata": {
  "kernelspec": {
   "display_name": "Python 3",
   "language": "python",
   "name": "python3"
  },
  "language_info": {
   "codemirror_mode": {
    "name": "ipython",
    "version": 3
   },
   "file_extension": ".py",
   "mimetype": "text/x-python",
   "name": "python",
   "nbconvert_exporter": "python",
   "pygments_lexer": "ipython3",
   "version": "3.8.8"
  }
 },
 "nbformat": 4,
 "nbformat_minor": 5
}
