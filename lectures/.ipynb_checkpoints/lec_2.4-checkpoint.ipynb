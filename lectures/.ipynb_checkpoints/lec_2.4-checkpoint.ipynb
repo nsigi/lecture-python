{
 "cells": [
  {
   "cell_type": "markdown",
   "metadata": {},
   "source": [
    "# Модуль matplotlib\n",
    "Библиотека для визуализации данных.\n",
    "\n",
    "Документация [здесь](https://matplotlib.org/stable/api/_as_gen/matplotlib.pyplot.html).\n",
    "\n",
    "\n",
    "Простой способ [реализовать график](https://matplotlib.org/stable/gallery/index.html). "
   ]
  },
  {
   "cell_type": "code",
   "execution_count": null,
   "metadata": {},
   "outputs": [],
   "source": [
    "import numpy as np\n",
    "import pandas as pd\n",
    "import matplotlib.pyplot as plt\n",
    "from mpl_toolkits.mplot3d import Axes3D\n",
    "from matplotlib import cm\n",
    "import matplotlib.image as image"
   ]
  },
  {
   "cell_type": "markdown",
   "metadata": {},
   "source": [
    "**figure** - рисунок.\n",
    "\n",
    "**axes** - график.\n",
    "\n",
    "На одном рисунке может быть расположено несколько графиков."
   ]
  },
  {
   "cell_type": "markdown",
   "metadata": {},
   "source": [
    "![title](img/matplot.png)"
   ]
  },
  {
   "cell_type": "markdown",
   "metadata": {},
   "source": [
    "#### Отображение в отдельном окне"
   ]
  },
  {
   "cell_type": "code",
   "execution_count": null,
   "metadata": {},
   "outputs": [],
   "source": [
    "%matplotlib"
   ]
  },
  {
   "cell_type": "markdown",
   "metadata": {},
   "source": [
    "#### Отображение в текущем окне"
   ]
  },
  {
   "cell_type": "code",
   "execution_count": null,
   "metadata": {},
   "outputs": [],
   "source": [
    "%matplotlib inline"
   ]
  },
  {
   "cell_type": "markdown",
   "metadata": {},
   "source": [
    "Если не писать эти команды, то тогда придется вызывать метод show()"
   ]
  },
  {
   "cell_type": "markdown",
   "metadata": {},
   "source": [
    "## Создание рисунка с графиками\n",
    "matplotlib.pyplot.subplots(nrows=1, ncols=1, ... )\n",
    "\n",
    "Документация [здесь](https://matplotlib.org/stable/api/_as_gen/matplotlib.pyplot.subplots.html)."
   ]
  },
  {
   "cell_type": "markdown",
   "metadata": {},
   "source": [
    "#### Один график на одном рисунке"
   ]
  },
  {
   "cell_type": "code",
   "execution_count": null,
   "metadata": {},
   "outputs": [],
   "source": [
    "fig, ax = plt.subplots()"
   ]
  },
  {
   "cell_type": "markdown",
   "metadata": {},
   "source": [
    "#### Четыре графика на одном рисунке"
   ]
  },
  {
   "cell_type": "code",
   "execution_count": null,
   "metadata": {},
   "outputs": [],
   "source": [
    "fig, ax = plt.subplots(2, 2)"
   ]
  },
  {
   "cell_type": "code",
   "execution_count": null,
   "metadata": {},
   "outputs": [],
   "source": [
    "print(ax)\n",
    "print(type(ax))"
   ]
  },
  {
   "cell_type": "markdown",
   "metadata": {},
   "source": [
    "#### Три графика на одном рисунке"
   ]
  },
  {
   "cell_type": "code",
   "execution_count": null,
   "metadata": {},
   "outputs": [],
   "source": [
    "fig, ax = plt.subplots(1, 3)"
   ]
  },
  {
   "cell_type": "markdown",
   "metadata": {},
   "source": [
    "#### Повторный вывод рисунка"
   ]
  },
  {
   "cell_type": "code",
   "execution_count": null,
   "metadata": {},
   "outputs": [],
   "source": [
    "fig"
   ]
  },
  {
   "cell_type": "markdown",
   "metadata": {},
   "source": [
    "## Создание графиков отдельно от рисунка\n",
    "Документация [здесь](https://matplotlib.org/stable/api/figure_api.html)."
   ]
  },
  {
   "cell_type": "code",
   "execution_count": null,
   "metadata": {},
   "outputs": [],
   "source": [
    "fig = plt.figure()\n",
    "\n",
    "ax1 = fig.add_subplot(2, 2, 1)\n",
    "ax2 = fig.add_subplot(2, 2, 2)\n",
    "ax3 = fig.add_subplot(2, 2, 3)"
   ]
  },
  {
   "cell_type": "markdown",
   "metadata": {},
   "source": [
    "## Линейные графики"
   ]
  },
  {
   "cell_type": "markdown",
   "metadata": {},
   "source": [
    "#### Один график на одном рисунке"
   ]
  },
  {
   "cell_type": "code",
   "execution_count": null,
   "metadata": {},
   "outputs": [],
   "source": [
    "x = np.linspace(-1, 1, 100)\n",
    "y = x * x + 3\n",
    "\n",
    "fig, ax = plt.subplots()\n",
    "ax.plot(x, y);"
   ]
  },
  {
   "cell_type": "markdown",
   "metadata": {},
   "source": [
    "**Зачем** \";\" ???"
   ]
  },
  {
   "cell_type": "markdown",
   "metadata": {},
   "source": [
    "#### Два графика на одном рисунке"
   ]
  },
  {
   "cell_type": "code",
   "execution_count": null,
   "metadata": {},
   "outputs": [],
   "source": [
    "x = np.linspace(-2, 2, 10)\n",
    "y1 = x * x - 2\n",
    "y2 = np.sin(x)\n",
    "\n",
    "fig, ax = plt.subplots(2, 1)\n",
    "ax[0].plot(x, y1)\n",
    "ax[1].plot(x, y2);"
   ]
  },
  {
   "cell_type": "markdown",
   "metadata": {},
   "source": [
    "#### Добавление графиков на рисунок"
   ]
  },
  {
   "cell_type": "code",
   "execution_count": null,
   "metadata": {},
   "outputs": [],
   "source": [
    "fig, ax = plt.subplots(2, 2)\n",
    "ax[0, 0].plot(x, y1)\n",
    "ax[1, 1].plot(x, y2);"
   ]
  },
  {
   "cell_type": "code",
   "execution_count": null,
   "metadata": {},
   "outputs": [],
   "source": [
    "ax[0, 1].plot(x, y2 * x)\n",
    "fig"
   ]
  },
  {
   "cell_type": "markdown",
   "metadata": {},
   "source": [
    "#### Несколько функций на графике"
   ]
  },
  {
   "cell_type": "code",
   "execution_count": null,
   "metadata": {},
   "outputs": [],
   "source": [
    "fig, ax = plt.subplots()\n",
    "ax.plot(x, y1)\n",
    "ax.plot(x, y2);"
   ]
  },
  {
   "cell_type": "markdown",
   "metadata": {},
   "source": [
    "## Диаграммы рассеивания"
   ]
  },
  {
   "cell_type": "code",
   "execution_count": null,
   "metadata": {},
   "outputs": [],
   "source": [
    "x = np.random.normal(-1, 2, 1000)\n",
    "y = np.random.normal(1, 1, 1000)\n",
    "\n",
    "fig, ax = plt.subplots(figsize=(10, 5))\n",
    "ax.scatter(x, y);"
   ]
  },
  {
   "cell_type": "code",
   "execution_count": null,
   "metadata": {},
   "outputs": [],
   "source": [
    "x1 = np.random.normal(-1, 1, 1000)\n",
    "y1 = np.random.normal(-1, 1, 1000)\n",
    "x2 = np.random.normal(-1, 1, 1000) + 1\n",
    "y2 = np.random.normal(-1, 1, 1000) + 3\n",
    "x3 = np.random.normal(-1, 1, 1000) + 4\n",
    "y3 = np.random.normal(-1, 1, 1000) + 2\n",
    "\n",
    "fig, ax = plt.subplots(figsize=(10, 10))\n",
    "ax.scatter(x1, y1)\n",
    "ax.scatter(x2, y2)\n",
    "ax.scatter(x3, y3);"
   ]
  },
  {
   "cell_type": "code",
   "execution_count": null,
   "metadata": {},
   "outputs": [],
   "source": [
    "df = pd.read_csv('titanic.csv', sep=',', index_col='PassengerId')\n",
    "fig, ax = plt.subplots(figsize=(10, 10))\n",
    "ax.scatter(df['Age'], df['Fare']);"
   ]
  },
  {
   "cell_type": "markdown",
   "metadata": {},
   "source": [
    "## Столбчатые диаграммы"
   ]
  },
  {
   "cell_type": "code",
   "execution_count": null,
   "metadata": {},
   "outputs": [],
   "source": [
    "age = df['Age'].dropna().astype(int).value_counts().sort_index()\n",
    "\n",
    "fig, ax = plt.subplots(figsize=(10, 10))\n",
    "ax.bar(age.index, age);"
   ]
  },
  {
   "cell_type": "markdown",
   "metadata": {},
   "source": [
    "## 3D графики"
   ]
  },
  {
   "cell_type": "code",
   "execution_count": null,
   "metadata": {},
   "outputs": [],
   "source": [
    "n = 50\n",
    "\n",
    "grid_ticks = np.linspace(-1, 1, n)\n",
    "\n",
    "x, y = np.meshgrid(grid_ticks, grid_ticks)\n",
    "z = np.sin(x ** 2 + y ** 2)\n",
    "\n",
    "fig = plt.figure(figsize=(10, 10))\n",
    "ax = fig.add_subplot(1, 1, 1, projection='3d')\n",
    "ax.scatter3D(x, y, z);"
   ]
  },
  {
   "cell_type": "code",
   "execution_count": null,
   "metadata": {},
   "outputs": [],
   "source": [
    "from mpl_toolkits.mplot3d import Axes3D\n",
    "\n",
    "n = 50\n",
    "\n",
    "grid_ticks = np.linspace(-1, 1, n)\n",
    "\n",
    "x, y = np.meshgrid(grid_ticks, grid_ticks)\n",
    "z = np.sin(x ** 2 + y ** 2)\n",
    "\n",
    "fig = plt.figure(figsize=(10, 10))\n",
    "ax = fig.add_subplot(1, 1, 1, projection='3d')\n",
    "ax.plot_surface(x, y, z, cmap=cm.coolwarm);"
   ]
  },
  {
   "cell_type": "markdown",
   "metadata": {},
   "source": [
    "## Круговые диаграммы"
   ]
  },
  {
   "cell_type": "code",
   "execution_count": null,
   "metadata": {},
   "outputs": [],
   "source": [
    "fig, ax = plt.subplots(figsize=(10, 10))\n",
    "ax.pie(age, labels=age.index);"
   ]
  },
  {
   "cell_type": "markdown",
   "metadata": {},
   "source": [
    "## Оформление графиков"
   ]
  },
  {
   "cell_type": "code",
   "execution_count": null,
   "metadata": {},
   "outputs": [],
   "source": [
    "x = np.linspace(-2.5, 2.5, 10)\n",
    "y1 = x ** 2 - 2\n",
    "y2 = np.sin(x)\n",
    "y3 = y2 * x\n",
    "y4 = x + 0.5\n",
    "y5 = np.exp(x) / 3 - 1"
   ]
  },
  {
   "cell_type": "markdown",
   "metadata": {},
   "source": [
    "### Заголовки"
   ]
  },
  {
   "cell_type": "code",
   "execution_count": null,
   "metadata": {},
   "outputs": [],
   "source": [
    "fig, ax = plt.subplots(1, 5)\n",
    "ax[0].plot(x, y1)\n",
    "ax[0].set_title(\"$x^2-2$\")\n",
    "ax[1].plot(x, y2)\n",
    "ax[1].set_title(\"$sin(x)$\")\n",
    "ax[2].plot(x, y3)\n",
    "ax[2].set_title(\"$x * sin(x)$\");\n",
    "ax[3].plot(x, y4)\n",
    "ax[3].set_title(\"$x+0.5$\")\n",
    "ax[4].plot(x, y5)\n",
    "ax[4].set_title(\"$e^x/3 - 1$\");"
   ]
  },
  {
   "cell_type": "markdown",
   "metadata": {},
   "source": [
    "### Линии"
   ]
  },
  {
   "cell_type": "markdown",
   "metadata": {},
   "source": [
    "[Типы линий](https://matplotlib.org/stable/gallery/lines_bars_and_markers/linestyles.html)"
   ]
  },
  {
   "cell_type": "code",
   "execution_count": null,
   "metadata": {},
   "outputs": [],
   "source": [
    "fig, ax = plt.subplots()\n",
    "ax.plot(x, y1, color=\"red\", linestyle=\"-\", linewidth=2.0)\n",
    "ax.plot(x, y2, color=\"0.5\", linestyle=\"-.\")\n",
    "ax.plot(x, y3, color=\"#00FF00\", linestyle=\"--\")\n",
    "ax.plot(x, y4, color=(1.0, 0.0, 1.0), linestyle=\":\")\n",
    "ax.plot(x, y5, color=\"b\", linestyle=\"dashed\", linewidth=4.0);"
   ]
  },
  {
   "cell_type": "markdown",
   "metadata": {},
   "source": [
    "### Маркеры"
   ]
  },
  {
   "cell_type": "markdown",
   "metadata": {},
   "source": [
    "[Типы маркеров](https://matplotlib.org/stable/api/markers_api.html)"
   ]
  },
  {
   "cell_type": "code",
   "execution_count": null,
   "metadata": {},
   "outputs": [],
   "source": [
    "fig, ax = plt.subplots()\n",
    "ax.plot(x, y1, color=\"red\", linestyle=\"-\", marker=\".\")\n",
    "ax.plot(x, y2, color=\"0.2\", linestyle=\"-.\", marker=\"o\")\n",
    "ax.plot(x, y3, color=\"#00FF00\", linestyle=\"--\", marker=\"s\")\n",
    "ax.plot(x, y4, color=(1.0, 0.0, 1.0), linestyle=\":\", marker=\"x\")\n",
    "ax.plot(x, y5, color=\"b\", linestyle=\"dashed\", marker=\">\");"
   ]
  },
  {
   "cell_type": "markdown",
   "metadata": {},
   "source": [
    "### Сетка"
   ]
  },
  {
   "cell_type": "code",
   "execution_count": null,
   "metadata": {},
   "outputs": [],
   "source": [
    "fig, ax = plt.subplots()\n",
    "ax.plot(x, y1)\n",
    "ax.plot(x, y2)\n",
    "ax.plot(x, y3)\n",
    "ax.plot(x, y4)\n",
    "ax.plot(x, y5)\n",
    "ax.grid()"
   ]
  },
  {
   "cell_type": "code",
   "execution_count": null,
   "metadata": {},
   "outputs": [],
   "source": [
    "fig, ax = plt.subplots()\n",
    "ax.plot(x, y1)\n",
    "ax.plot(x, y2)\n",
    "ax.plot(x, y3)\n",
    "ax.plot(x, y4)\n",
    "ax.plot(x, y5)\n",
    "ax.grid(color=\"red\", linestyle=\"--\")"
   ]
  },
  {
   "cell_type": "markdown",
   "metadata": {},
   "source": [
    "### Оси"
   ]
  },
  {
   "cell_type": "markdown",
   "metadata": {},
   "source": [
    "#### Диапазоны"
   ]
  },
  {
   "cell_type": "code",
   "execution_count": null,
   "metadata": {},
   "outputs": [],
   "source": [
    "fig, ax = plt.subplots()\n",
    "ax.plot(x, y1, color=\"red\", linestyle=\"-\", marker=\".\")\n",
    "ax.plot(x, y2, color=\"0.2\", linestyle=\"-.\", marker=\"o\")\n",
    "ax.plot(x, y3, color=\"#00FF00\", linestyle=\"--\", marker=\"s\")\n",
    "ax.plot(x, y4, color=(1.0, 0.0, 1.0), linestyle=\":\", marker=\"x\")\n",
    "ax.plot(x, y5, color=\"b\", linestyle=\"dashed\", marker=\">\");\n",
    "\n",
    "ax.set_xlim(-2, 0)\n",
    "ax.set_ylim(-2, 2)"
   ]
  },
  {
   "cell_type": "markdown",
   "metadata": {},
   "source": [
    "#### Подписи"
   ]
  },
  {
   "cell_type": "code",
   "execution_count": null,
   "metadata": {},
   "outputs": [],
   "source": [
    "fig, ax = plt.subplots()\n",
    "ax.plot(x, y1, color=\"red\", linestyle=\"-\", marker=\".\")\n",
    "ax.plot(x, y2, color=\"0.2\", linestyle=\"-.\", marker=\"o\")\n",
    "ax.plot(x, y3, color=\"#00FF00\", linestyle=\"--\", marker=\"s\")\n",
    "ax.plot(x, y4, color=(1.0, 0.0, 1.0), linestyle=\":\", marker=\"x\")\n",
    "ax.plot(x, y5, color=\"b\", linestyle=\"dashed\", marker=\">\");\n",
    "\n",
    "ax.set_xlabel(\"x\")\n",
    "ax.set_ylabel(\"y\");"
   ]
  },
  {
   "cell_type": "markdown",
   "metadata": {},
   "source": [
    "#### Отсчеты"
   ]
  },
  {
   "cell_type": "code",
   "execution_count": null,
   "metadata": {},
   "outputs": [],
   "source": [
    "fig, ax = plt.subplots()\n",
    "ax.plot(x, y1, color=\"red\", linestyle=\"-\", marker=\".\")\n",
    "ax.plot(x, y2, color=\"0.2\", linestyle=\"-.\", marker=\"o\")\n",
    "ax.plot(x, y3, color=\"#00FF00\", linestyle=\"--\", marker=\"s\")\n",
    "ax.plot(x, y4, color=(1.0, 0.0, 1.0), linestyle=\":\", marker=\"x\")\n",
    "ax.plot(x, y5, color=\"b\", linestyle=\"dashed\", marker=\">\");\n",
    "\n",
    "ax.set_xticks(np.arange(-2, 3, 2))\n",
    "ax.set_yticks(np.arange(-2, 5, 2))\n",
    "ax.grid()"
   ]
  },
  {
   "cell_type": "markdown",
   "metadata": {},
   "source": [
    "### Легенда"
   ]
  },
  {
   "cell_type": "markdown",
   "metadata": {},
   "source": [
    "[Местоположение и прочее](https://matplotlib.org/stable/api/_as_gen/matplotlib.pyplot.legend.html)"
   ]
  },
  {
   "cell_type": "code",
   "execution_count": null,
   "metadata": {},
   "outputs": [],
   "source": [
    "fig, ax = plt.subplots()\n",
    "ax.plot(x, y1, color=\"red\", linestyle=\"-\", marker=\".\", label=\"$x^2-2$\")\n",
    "ax.plot(x, y2, color=\"0.2\", linestyle=\"-.\", marker=\"o\", label=\"$sin(x)$\")\n",
    "ax.plot(x, y3, color=\"#00FF00\", linestyle=\"--\", marker=\"s\", label=\"$x * sin(x)$\")\n",
    "ax.plot(x, y4, color=(1.0, 0.0, 1.0), linestyle=\":\", marker=\"x\", label=\"$x+0.5$\")\n",
    "ax.plot(x, y5, color=\"b\", linestyle=\"dashed\", marker=\">\", label=\"$exp(x)/3 - 1$\");\n",
    "\n",
    "ax.set_xlabel(\"x\")\n",
    "ax.set_ylabel(\"y\");\n",
    "ax.legend(loc=\"upper center\");"
   ]
  },
  {
   "cell_type": "code",
   "execution_count": null,
   "metadata": {},
   "outputs": [],
   "source": [
    "fig, ax = plt.subplots()\n",
    "ax.plot(x, y1, color=\"red\", linestyle=\"-\", marker=\".\", label=\"$x^2-2$\")\n",
    "ax.plot(x, y2, color=\"0.2\", linestyle=\"-.\", marker=\"o\", label=\"$sin(x)$\")\n",
    "ax.plot(x, y3, color=\"#00FF00\", linestyle=\"--\", marker=\"s\", label=\"$x * sin(x)$\")\n",
    "ax.plot(x, y4, color=(1.0, 0.0, 1.0), linestyle=\":\", marker=\"x\", label=\"$x+0.5$\")\n",
    "ax.plot(x, y5, color=\"b\", linestyle=\"dashed\", marker=\">\", label=\"$exp(x)/3 - 1$\");\n",
    "\n",
    "ax.set_xlabel(\"x\")\n",
    "ax.set_ylabel(\"y\");\n",
    "ax.legend(loc=\"center right\", bbox_to_anchor=(1.4, 0.5));"
   ]
  },
  {
   "cell_type": "code",
   "execution_count": null,
   "metadata": {},
   "outputs": [],
   "source": [
    "#plt.xticks(rotation=90)"
   ]
  },
  {
   "cell_type": "markdown",
   "metadata": {},
   "source": [
    "## Сохранение и загрузка"
   ]
  },
  {
   "cell_type": "markdown",
   "metadata": {},
   "source": [
    "#### Сохранение"
   ]
  },
  {
   "cell_type": "code",
   "execution_count": null,
   "metadata": {},
   "outputs": [],
   "source": [
    "fig.savefig(\"./img/result.png\")\n",
    "\n",
    "image_format = 'svg'\n",
    "\n",
    "fig.savefig(\"./img/result.svg\", format=image_format, dpi=1200)"
   ]
  },
  {
   "cell_type": "markdown",
   "metadata": {},
   "source": [
    "#### Загрузка и отображение"
   ]
  },
  {
   "cell_type": "code",
   "execution_count": null,
   "metadata": {},
   "outputs": [],
   "source": [
    "img = image.imread(\"./img/result.png\")\n",
    "plt.imshow(img);"
   ]
  }
 ],
 "metadata": {
  "kernelspec": {
   "display_name": "Python 3",
   "language": "python",
   "name": "python3"
  },
  "language_info": {
   "codemirror_mode": {
    "name": "ipython",
    "version": 3
   },
   "file_extension": ".py",
   "mimetype": "text/x-python",
   "name": "python",
   "nbconvert_exporter": "python",
   "pygments_lexer": "ipython3",
   "version": "3.8.8"
  }
 },
 "nbformat": 4,
 "nbformat_minor": 4
}
