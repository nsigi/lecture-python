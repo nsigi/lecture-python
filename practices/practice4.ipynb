{
 "cells": [
  {
   "cell_type": "code",
   "execution_count": 39,
   "id": "584dacab",
   "metadata": {},
   "outputs": [
    {
     "name": "stdout",
     "output_type": "stream",
     "text": [
      "2\n"
     ]
    }
   ],
   "source": [
    "def find_val(list_val, start, stop, val):\n",
    "    if (start <= stop):\n",
    "        mid = (stop + start) // 2\n",
    "        #print(mid, list_val[mid])\n",
    "        if (list_val[mid] < val):\n",
    "            return find_val(list_val, mid + 1, stop, val)\n",
    "        elif (list_val[mid] > val):\n",
    "            return find_val(list_val, start, mid - 1, val)\n",
    "        else:\n",
    "            return mid\n",
    "    return None\n",
    "    \n",
    "list_val = [-5, -3, 0, 2, 7, 8, 10, 15, 50, 61]\n",
    "print(find_val(list_val, 0, 9, 0))"
   ]
  },
  {
   "cell_type": "code",
   "execution_count": 56,
   "id": "fd462a1b",
   "metadata": {},
   "outputs": [
    {
     "name": "stdout",
     "output_type": "stream",
     "text": [
      "55\n"
     ]
    }
   ],
   "source": [
    "def fib(i):\n",
    "    if i > 2:\n",
    "        return fib(i - 1) + fib(i - 2)\n",
    "    elif i == 0:\n",
    "        return 0\n",
    "    return 1\n",
    "print(fib(10))"
   ]
  },
  {
   "cell_type": "code",
   "execution_count": null,
   "id": "24a210e3",
   "metadata": {},
   "outputs": [
    {
     "name": "stdout",
     "output_type": "stream",
     "text": [
      "80\n",
      "0\n",
      "1\n",
      "1\n",
      "2\n",
      "3\n",
      "5\n",
      "8\n",
      "13\n",
      "21\n",
      "34\n",
      "55\n",
      "89\n",
      "144\n",
      "233\n",
      "377\n",
      "610\n",
      "987\n",
      "1597\n",
      "2584\n",
      "4181\n",
      "6765\n",
      "10946\n",
      "17711\n",
      "28657\n",
      "46368\n",
      "75025\n",
      "121393\n",
      "196418\n",
      "317811\n",
      "514229\n",
      "832040\n",
      "1346269\n",
      "2178309\n",
      "3524578\n",
      "5702887\n",
      "9227465\n",
      "14930352\n",
      "24157817\n",
      "39088169\n",
      "63245986\n",
      "102334155\n",
      "165580141\n",
      "267914296\n",
      "433494437\n",
      "701408733\n",
      "1134903170\n"
     ]
    }
   ],
   "source": [
    "def fib(i):\n",
    "    if i > 1:\n",
    "        return fib(i - 1) + fib(i - 2)\n",
    "    elif i == 0:\n",
    "        return 0\n",
    "    return 1\n",
    "n = int(input())\n",
    "for j in range(n):\n",
    "    print(fib(j))"
   ]
  },
  {
   "cell_type": "code",
   "execution_count": 66,
   "id": "73eacde3",
   "metadata": {},
   "outputs": [
    {
     "name": "stdout",
     "output_type": "stream",
     "text": [
      "89\n"
     ]
    }
   ],
   "source": [
    "#кол-во рекурсивных вызовов меньше, чем в случае выше\n",
    "def fib(n_2, n_1, i):\n",
    "    if i > 2:\n",
    "        return fib(n_1, n_2 + n_1, i - 1)\n",
    "    elif i == 0:\n",
    "        return 0\n",
    "    return n_2 + n_1\n",
    "print(fib(0, 1, 11))"
   ]
  },
  {
   "cell_type": "code",
   "execution_count": 85,
   "id": "31aa6e94",
   "metadata": {},
   "outputs": [
    {
     "name": "stdout",
     "output_type": "stream",
     "text": [
      "{'one': 1, 'two': 2, 'three': 3, 'four': 16, 'five': 25, 'siix': 36}\n"
     ]
    }
   ],
   "source": [
    "def func(d):\n",
    "    for key in d.keys():\n",
    "        if not len(key) % 2:\n",
    "            d[key] *= d[key]\n",
    "d = {'one': 1, 'two': 2, 'three': 3, 'four': 4, 'five': 5, 'siix': 6}\n",
    "func(d)\n",
    "print(d)"
   ]
  }
 ],
 "metadata": {
  "kernelspec": {
   "display_name": "Python 3",
   "language": "python",
   "name": "python3"
  },
  "language_info": {
   "codemirror_mode": {
    "name": "ipython",
    "version": 3
   },
   "file_extension": ".py",
   "mimetype": "text/x-python",
   "name": "python",
   "nbconvert_exporter": "python",
   "pygments_lexer": "ipython3",
   "version": "3.8.8"
  }
 },
 "nbformat": 4,
 "nbformat_minor": 5
}
