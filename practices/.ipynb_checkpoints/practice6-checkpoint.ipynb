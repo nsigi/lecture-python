{
 "cells": [
  {
   "cell_type": "code",
   "execution_count": 93,
   "id": "40e2aab2",
   "metadata": {},
   "outputs": [
    {
     "name": "stdout",
     "output_type": "stream",
     "text": [
      "342 892\n"
     ]
    }
   ],
   "source": [
    "#1 Количество выживших пассажиров.\n",
    "\n",
    "with open(\"titanic.csv\", 'r') as f:\n",
    "    header = f.readline()\n",
    "    strings = f.readlines()\n",
    "    i = 0\n",
    "    for str in strings:\n",
    "        if (str.split(',')[1] == '1'):            \n",
    "            i += 1\n",
    "    print(i)"
   ]
  },
  {
   "cell_type": "code",
   "execution_count": 86,
   "id": "7c556994",
   "metadata": {},
   "outputs": [
    {
     "name": "stdout",
     "output_type": "stream",
     "text": [
      "Мужчин:  453\n",
      "Женщин:  261\n",
      "Средний возраст мужчин:  30.72664459161148\n",
      "Средний возраст женщин:  27.915708812260537\n"
     ]
    }
   ],
   "source": [
    "#2.Средний возраст мужчин и женщин по отдельности.\n",
    "with open(\"titanic.csv\", 'r') as f:\n",
    "    header = f.readline()\n",
    "    strings = f.readlines()\n",
    "    countM = countF = sumAgeM = sumAgeF = 0\n",
    "    for str in strings:    \n",
    "        strSex = str.split(',')[-3]\n",
    "        strAge = str.split(',')[-2]\n",
    "        if (strAge != \"\"):\n",
    "            if (strSex == \"male\"):            \n",
    "                countM += 1\n",
    "                sumAgeM += float(strAge)\n",
    "            elif (strSex == \"female\"):\n",
    "                countF += 1\n",
    "                sumAgeF += float(strAge)\n",
    "print(\"Мужчин: \", countM)\n",
    "print(\"Женщин: \", countF)\n",
    "print(\"Средний возраст мужчин: \", sumAgeM / countM)\n",
    "print(\"Средний возраст женщин: \", sumAgeF / countF)\n"
   ]
  },
  {
   "cell_type": "code",
   "execution_count": 92,
   "id": "f82b3852",
   "metadata": {},
   "outputs": [
    {
     "name": "stdout",
     "output_type": "stream",
     "text": [
      "C 0 до 9:    62\n",
      "C 10 до 19:  102\n",
      "C 20 до 29:  220\n",
      "C 30 до 39:  167\n",
      "C 40 до 49:  89\n",
      "C 50 до 59:  48\n",
      "C 60 до 69:  19\n",
      "C 70 до 79:  6\n",
      "C 80 до 89:  1\n",
      "C 90 до 99:  0\n"
     ]
    }
   ],
   "source": [
    "#3.Количество пассажиров в разрезе десятилетий.\n",
    "with open(\"titanic.csv\", 'r') as f:\n",
    "    header = f.readline()\n",
    "    strings = f.readlines()\n",
    "    count0To9 = count10To19 = count20To29 = count30To39 = count40To49 = 0\n",
    "    count50To59 = count60To69 = count70To79 = count80To89 = count90To99 = 0\n",
    "    for str in strings:    \n",
    "        strAge = str.split(',')[-2]\n",
    "        if (strAge != \"\"):\n",
    "            age = float(strAge)\n",
    "            if (0 < age < 10): count0To9 += 1\n",
    "            elif (9 < age < 20): count10To19 += 1\n",
    "            elif (19 < age < 30): count20To29 += 1\n",
    "            elif (29 < age < 40): count30To39 += 1\n",
    "            elif (39 < age < 50): count40To49 += 1\n",
    "            elif (49 < age < 60): count50To59 += 1\n",
    "            elif (59 < age < 70): count60To69 += 1\n",
    "            elif (69 < age < 80): count70To79 += 1\n",
    "            elif (79 < age < 90): count80To89 += 1\n",
    "            elif (89 < age < 100): count90To99 += 1    \n",
    "\n",
    "print(\"C 0 до 9:   \", count0To9)\n",
    "print(\"C 10 до 19: \", count10To19)\n",
    "print(\"C 20 до 29: \", count20To29)\n",
    "print(\"C 30 до 39: \", count30To39)\n",
    "print(\"C 40 до 49: \", count40To49)\n",
    "print(\"C 50 до 59: \", count50To59)\n",
    "print(\"C 60 до 69: \", count60To69)\n",
    "print(\"C 70 до 79: \", count70To79)\n",
    "print(\"C 80 до 89: \", count80To89)\n",
    "print(\"C 90 до 99: \", count90To99)"
   ]
  },
  {
   "cell_type": "code",
   "execution_count": 98,
   "id": "5d95131a",
   "metadata": {},
   "outputs": [
    {
     "name": "stdout",
     "output_type": "stream",
     "text": [
      "[62, 102, 220, 167, 89, 48, 19, 6, 1, 0]\n"
     ]
    }
   ],
   "source": [
    "#3.Количество пассажиров в разрезе десятилетий. (решение проще)\n",
    "with open(\"titanic.csv\", 'r') as f:\n",
    "    header = f.readline()\n",
    "    strings = f.readlines()\n",
    "    ages = [0] * 10\n",
    "    for str in strings:    \n",
    "        age = str.split(',')[-2]\n",
    "        if (age != ''):\n",
    "            ages[int(float(age) // 10)] += 1\n",
    "print(ages)"
   ]
  }
 ],
 "metadata": {
  "kernelspec": {
   "display_name": "Python 3",
   "language": "python",
   "name": "python3"
  },
  "language_info": {
   "codemirror_mode": {
    "name": "ipython",
    "version": 3
   },
   "file_extension": ".py",
   "mimetype": "text/x-python",
   "name": "python",
   "nbconvert_exporter": "python",
   "pygments_lexer": "ipython3",
   "version": "3.8.8"
  }
 },
 "nbformat": 4,
 "nbformat_minor": 5
}
